{
 "cells": [
  {
   "cell_type": "markdown",
   "id": "5c62b02a",
   "metadata": {},
   "source": [
    "# Entrega 1\n",
    "- Descripción del sistema computacional:\n",
    "- Pregunta de estudio: \n",
    "- Tipos de datos a recolectar:\n",
    "\n",
    "# Entrega 2\n",
    "- Metodología de evaluación de desempeño:\n",
    "    (Monitoreo, benchmarking o redes de colas)\n",
    "- Diseño del estudio (y primeros resultados):\n",
    "\n",
    "# Entrega 3\n",
    "Informe final con\n",
    "- Recoleccion de Datos\n",
    "- Resultados\n",
    "> con interpretacion\n",
    "- Conclusiones"
   ]
  },
  {
   "cell_type": "markdown",
   "id": "a18376f0",
   "metadata": {},
   "source": [
    "$$\\text{Lista Nueva lista de Data}$$\n",
    "\n",
    "<img src=\"../Shared/newData/list.png\" alt=\"lista_newData\">"
   ]
  },
  {
   "cell_type": "code",
   "execution_count": null,
   "id": "53bf5a8c",
   "metadata": {},
   "outputs": [],
   "source": [
    "import pandas as pd\n",
    "import matplotlib.pyplot as plt\n",
    "import numpy as np\n",
    "from datetime import datetime"
   ]
  },
  {
   "cell_type": "code",
   "execution_count": null,
   "id": "c6b3e8ae",
   "metadata": {},
   "outputs": [],
   "source": [
    "def readData(filename, sep=\",\", parse_dates=[]):\n",
    "    data = pd.read_csv(filename, sep=sep)    \n",
    "    for col in parse_dates:\n",
    "        data[col] = pd.to_datetime(data[col], errors=\"coerce\")\n",
    "    return data\n",
    "    \n",
    "def hCumsum(data):\n",
    "    columns = data.columns[1:]\n",
    "    data[columns] = data[columns].cumsum(axis=1)\n",
    "    return data, columns"
   ]
  },
  {
   "cell_type": "code",
   "execution_count": null,
   "id": "fecb1d7d",
   "metadata": {},
   "outputs": [],
   "source": [
    "# 1. Read and clean data\n",
    "\n",
    "newRoute = \"../Shared/oldData\"\n",
    "# 1.1 WebData\n",
    "archivos = [\n",
    "    newRoute + \"/\" + \"CPU Utilization.csv\", #0\n",
    "    newRoute + \"/\" + \"GPU Utilization.csv\", #1\n",
    "    newRoute + \"/\" + \"GPU Used Memory.csv\", #2\n",
    "    newRoute + \"/\" + \"Memory.csv\",          #3\n",
    "    newRoute + \"/\" + \"Patagon - Power.csv\", #4\n",
    "]\n",
    "\n",
    "data = []\n",
    "cols_ix = [] \n",
    "for i, a in enumerate(archivos):\n",
    "    d, c = hCumsum(readData(a, parse_dates=[\"Time\"]))\n",
    "    data.append(d)\n",
    "    cols_ix.append(c)\n",
    "    \n",
    "# 1.2 PatagonData\n",
    "monitoreo = readData(\"../Shared/monitoreo.csv\", sep=\"|\", parse_dates=['Start', 'End'])"
   ]
  },
  {
   "cell_type": "markdown",
   "id": "ee48fc35",
   "metadata": {},
   "source": [
    "##### Cantidad de Nulls por data (donde hayan)\n",
    "Universo: 15412\n",
    "- \"Unnamed: 19\": todos jj\n",
    "- \"MinCPU\": 924\n",
    "- \"MaxVMSize\": 924\n",
    "- \"AveVMSize\"\n",
    "- \"MaxRSS\": 924\n",
    "- \"AveRSS\": 924\n",
    "- \"MaxDiskWrite\": 924\n",
    "- \"AveDiskWrite\": 924\n",
    "- \"MaxDiskRead\": 924\n",
    "- \"AveDiskRead\": 924\n",
    "- \"ReqTRES\": 10364"
   ]
  },
  {
   "cell_type": "code",
   "execution_count": null,
   "id": "10564b11",
   "metadata": {},
   "outputs": [],
   "source": [
    "filtrado = [\n",
    "    'Unnamed: 19',\n",
    "    'ReqTRES'\n",
    "]"
   ]
  },
  {
   "cell_type": "code",
   "execution_count": null,
   "id": "7273fdc5",
   "metadata": {
    "scrolled": false
   },
   "outputs": [],
   "source": [
    "filtered_monitoreo = monitoreo.copy()\n",
    "filtered_monitoreo.name = \"filtered_monitoreo\"\n",
    "filtered_monitoreo.drop([0, 1, 2], axis=0, inplace=True)\n",
    "filtered_monitoreo.drop(filtrado, axis=1, inplace=True)"
   ]
  },
  {
   "cell_type": "code",
   "execution_count": null,
   "id": "fb5a1afc",
   "metadata": {},
   "outputs": [],
   "source": [
    "filtered_monitoreo[\"ReqMem\"] = filtered_monitoreo.ReqMem.str.extract('(\\d+)')\n",
    "filtered_monitoreo[\"AveDiskRead\"] = filtered_monitoreo.ReqMem.str.extract('(\\d+)')\n",
    "filtered_monitoreo[\"MaxDiskRead\"] = filtered_monitoreo.ReqMem.str.extract('(\\d+)')\n",
    "filtered_monitoreo[\"AveDiskWrite\"] = filtered_monitoreo.ReqMem.str.extract('(\\d+)')\n",
    "filtered_monitoreo[\"MaxDiskWrite\"] = filtered_monitoreo.ReqMem.str.extract('(\\d+)')\n",
    "filtered_monitoreo[\"AveRSS\"] = filtered_monitoreo.AveRSS.str.extract('(\\d+)')\n",
    "filtered_monitoreo[\"MaxRSS\"] = filtered_monitoreo.MaxRSS.str.extract('(\\d+)')\n",
    "filtered_monitoreo[\"AveVMSize\"] = filtered_monitoreo.AveVMSize.str.extract('(\\d+)')\n",
    "filtered_monitoreo[\"MaxVMSize\"] = filtered_monitoreo.MaxVMSize.str.extract('(\\d+)')"
   ]
  },
  {
   "cell_type": "code",
   "execution_count": null,
   "id": "2c9ad142",
   "metadata": {},
   "outputs": [],
   "source": [
    "filtered_monitoreo.fillna(0, inplace=True)"
   ]
  },
  {
   "cell_type": "code",
   "execution_count": null,
   "id": "ba959256",
   "metadata": {},
   "outputs": [],
   "source": [
    "filtered_monitoreo[\"ReqMem\"] = filtered_monitoreo[\"ReqMem\"].astype(np.int64)\n",
    "filtered_monitoreo[\"AveDiskRead\"] = filtered_monitoreo[\"AveDiskRead\"].astype(np.int64)\n",
    "filtered_monitoreo[\"MaxDiskRead\"] = filtered_monitoreo[\"MaxDiskRead\"].astype(np.int64)\n",
    "filtered_monitoreo[\"AveDiskWrite\"] = filtered_monitoreo[\"AveDiskWrite\"].astype(np.int64)\n",
    "filtered_monitoreo[\"MaxDiskWrite\"] = filtered_monitoreo[\"MaxDiskWrite\"].astype(np.int64)\n",
    "filtered_monitoreo[\"AveRSS\"] = filtered_monitoreo[\"AveRSS\"].astype(np.int64)\n",
    "filtered_monitoreo[\"MaxRSS\"] = filtered_monitoreo[\"MaxRSS\"].astype(np.int64)\n",
    "filtered_monitoreo[\"AveVMSize\"] = filtered_monitoreo[\"AveVMSize\"].astype(np.int64)\n",
    "filtered_monitoreo[\"MaxVMSize\"] = filtered_monitoreo[\"MaxVMSize\"].astype(np.int64)"
   ]
  },
  {
   "cell_type": "code",
   "execution_count": null,
   "id": "43c62241",
   "metadata": {},
   "outputs": [],
   "source": [
    "filtered_monitoreo"
   ]
  },
  {
   "cell_type": "code",
   "execution_count": null,
   "id": "cefb2804",
   "metadata": {},
   "outputs": [],
   "source": [
    "completos = filtered_monitoreo[filtered_monitoreo[\"State\"] == \"COMPLETED\"]\n",
    "fallidos = filtered_monitoreo[filtered_monitoreo[\"State\"] == \"FAILED\"]\n",
    "corriendos = filtered_monitoreo[filtered_monitoreo[\"State\"] == \"RUNNING\"]\n",
    "cancelados = filtered_monitoreo[filtered_monitoreo[\"State\"] == \"CANCELLED\"]\n",
    "# dataframe[dataframe['Percentage'] > 70]"
   ]
  },
  {
   "cell_type": "code",
   "execution_count": null,
   "id": "01b3f6d1",
   "metadata": {},
   "outputs": [],
   "source": [
    "plt.figure(figsize=(15, 6), tight_layout=True)\n",
    "# plt.bar([1,2,3], [1,2,3])"
   ]
  },
  {
   "cell_type": "code",
   "execution_count": null,
   "id": "b8b58a57",
   "metadata": {
    "scrolled": false
   },
   "outputs": [],
   "source": [
    "for i in range(len(data)):\n",
    "    plt.figure(figsize=(15, 10))\n",
    "    plt.plot(data[i][\"Time\"], data[i][cols_ix[i]])\n",
    "    plt.savefig(\"{}.png\".format(archivos[i]), bbox_inches='tight')"
   ]
  },
  {
   "cell_type": "code",
   "execution_count": null,
   "id": "4d009079",
   "metadata": {},
   "outputs": [],
   "source": []
  }
 ],
 "metadata": {
  "kernelspec": {
   "display_name": "Python 3",
   "language": "python",
   "name": "python3"
  },
  "language_info": {
   "codemirror_mode": {
    "name": "ipython",
    "version": 3
   },
   "file_extension": ".py",
   "mimetype": "text/x-python",
   "name": "python",
   "nbconvert_exporter": "python",
   "pygments_lexer": "ipython3",
   "version": "3.8.8"
  }
 },
 "nbformat": 4,
 "nbformat_minor": 5
}
